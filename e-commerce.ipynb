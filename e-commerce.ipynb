{
 "cells": [
  {
   "cell_type": "code",
   "execution_count": 15,
   "id": "64749608-40e5-4af2-b251-06ba92cea7d0",
   "metadata": {},
   "outputs": [
    {
     "name": "stdout",
     "output_type": "stream",
     "text": [
      "   Order No cutomer Name        product  prize order date           city  \\\n",
      "0       Or1       sohail    samrt phone  15000 2025-10-01       hyderbad   \n",
      "1       Or2        kamal         laptop  20000 2025-10-02          delhi   \n",
      "2       Or3        vicky    smart watch  18000 2025-10-03        kolkata   \n",
      "3       Or4        rahul  smart glasses  17000 2025-10-04      banguluru   \n",
      "4       Or5       junaid           ring  21000 2025-10-05         mumbai   \n",
      "5       Or6        aksar      neck band  18000 2025-10-06         jaipur   \n",
      "6       Or7        ayaan        earpods  16000 2025-10-07          ajmer   \n",
      "7       Or8        vivek     headphones  15000 2025-10-08         odisah   \n",
      "8       Or9         boss      wire buds  45000 2025-10-09      hyderabad   \n",
      "9      Or10        verma           buds  17000 2025-10-10          delhi   \n",
      "10     Or11        kabir        vehicle  12000 2025-10-11         mumbai   \n",
      "11     Or12     singhdar         fitbit  10000 2025-10-12  jammu kashmir   \n",
      "12     Or13        mirza    smart watch  16000 2025-10-13          delhi   \n",
      "13     Or14        ahmed         iphone  35000 2025-10-14         mumbai   \n",
      "14     Or15        jawad        samsung  23000 2025-10-15          delhi   \n",
      "15     Or16         zayn          nokia  22000 2025-10-16           agra   \n",
      "16     Or17      kendall         laptop  21000 2025-10-17          delhi   \n",
      "17     Or18         nick        t-shirt  33000 2025-10-18       amrister   \n",
      "18     Or19      micheal      airjordan  22000 2025-10-19         punjab   \n",
      "19     Or20       jordan        airback  11000 2025-10-20         kerela   \n",
      "\n",
      "   payment method  \n",
      "0             upi  \n",
      "1         account  \n",
      "2            cash  \n",
      "3             upi  \n",
      "4         account  \n",
      "5            cash  \n",
      "6         scanner  \n",
      "7             upi  \n",
      "8         account  \n",
      "9            cash  \n",
      "10            upi  \n",
      "11        scanner  \n",
      "12          debit  \n",
      "13        account  \n",
      "14        account  \n",
      "15           cash  \n",
      "16        scanner  \n",
      "17            upi  \n",
      "18        scanner  \n",
      "19            upi  \n",
      "💰REVENUE GENERATED\n",
      "407000\n"
     ]
    }
   ],
   "source": [
    "import pandas as pd\n",
    "commerce_data=\"commerce_only.xlsx\"\n",
    "convert_data=pd.read_excel(commerce_data)\n",
    "print(convert_data)\n",
    "\n",
    "#Total Revenue\n",
    "print(\"💰REVENUE GENERATED\")\n",
    "generated_revenue=convert_data['prize'].sum()\n",
    "print(generated_revenue)\n"
   ]
  },
  {
   "cell_type": "code",
   "execution_count": 6,
   "id": "a463fb30-440a-46ad-a792-93be16c58a7e",
   "metadata": {},
   "outputs": [
    {
     "name": "stdout",
     "output_type": "stream",
     "text": [
      "🏙️CITY WISE REVENUE GENERATED\n",
      "             city  prize\n",
      "0            agra  22000\n",
      "1           ajmer  16000\n",
      "2        amrister  33000\n",
      "3       banguluru  17000\n",
      "4           delhi  97000\n",
      "5       hyderabad  60000\n",
      "6          jaipur  18000\n",
      "7   jammu kashmir  10000\n",
      "8          kerela  11000\n",
      "9         kolkata  18000\n",
      "10         mumbai  68000\n",
      "11         odisah  15000\n",
      "12         punjab  22000\n"
     ]
    }
   ],
   "source": [
    "print(\"🏙️CITY WISE REVENUE GENERATED\")\n",
    "convert_data['city']=convert_data['city'].replace('hyderbad','hyderabad')\n",
    "# City Wise Revenue Generated\n",
    "city_revenue=convert_data.groupby('city')['prize'].sum().reset_index()\n",
    "print(city_revenue)"
   ]
  },
  {
   "cell_type": "code",
   "execution_count": 7,
   "id": "e489b3f7-5d0c-46de-92cd-94cfeec179dd",
   "metadata": {},
   "outputs": [
    {
     "name": "stdout",
     "output_type": "stream",
     "text": [
      "TOP 5️⃣ SOLD PRODUCT\n",
      "       product  prize\n",
      "0    wire buds  45000\n",
      "1       laptop  41000\n",
      "2       iphone  35000\n",
      "3  smart watch  34000\n",
      "4      t-shirt  33000\n"
     ]
    }
   ],
   "source": [
    "print(\"TOP 5️⃣ SOLD PRODUCT\") \n",
    "top_products=convert_data.groupby('product')['prize'].sum().sort_values(ascending=False).head(5).reset_index()\n",
    "print(top_products)"
   ]
  },
  {
   "cell_type": "code",
   "execution_count": 8,
   "id": "6217840d-fd5b-4e88-ba5f-2823776931b1",
   "metadata": {},
   "outputs": [
    {
     "name": "stdout",
     "output_type": "stream",
     "text": [
      "📅 MONTHLY SALES TREND\n",
      "month\n",
      "25-10    407000\n",
      "Name: prize, dtype: int64\n"
     ]
    }
   ],
   "source": [
    "print(\"📅 MONTHLY SALES TREND\")\n",
    "convert_data['order data']=pd.to_datetime(convert_data['order date'])\n",
    "convert_data['month']=convert_data['order date'].dt.strftime('%y-%m')\n",
    "monthly_sales=convert_data.groupby('month')['prize'].sum()\n",
    "print(monthly_sales)"
   ]
  },
  {
   "cell_type": "code",
   "execution_count": 9,
   "id": "50343600-bae2-4775-b1c1-83fac95aca9e",
   "metadata": {},
   "outputs": [
    {
     "name": "stdout",
     "output_type": "stream",
     "text": [
      "TOP 5️⃣ CUSTOMERS BUYED\n",
      "Customer Name\n",
      "boss     45000\n",
      "ahmed    35000\n",
      "nick     33000\n",
      "jawad    23000\n",
      "zayn     22000\n",
      "Name: prize, dtype: int64\n"
     ]
    }
   ],
   "source": [
    "print(\"TOP 5️⃣ CUSTOMERS BUYED\")\n",
    "convert_data=convert_data.rename(columns={'cutomer Name':'Customer Name'})\n",
    "top_customer=convert_data.groupby('Customer Name')['prize'].sum().sort_values(ascending=False).head(5)\n",
    "print(top_customer)"
   ]
  },
  {
   "cell_type": "code",
   "execution_count": 11,
   "id": "6e049db2-f1ae-4909-a3a3-0f246e64ad33",
   "metadata": {},
   "outputs": [
    {
     "name": "stdout",
     "output_type": "stream",
     "text": [
      "NUMBER OF 💳 PAYMENTS DONE\n",
      "payment method\n",
      "upi        6\n",
      "account    5\n",
      "cash       4\n",
      "scanner    4\n",
      "debit      1\n",
      "Name: count, dtype: int64\n"
     ]
    }
   ],
   "source": [
    "print(\"NUMBER OF 💳 PAYMENTS DONE\")\n",
    "payment_methods=convert_data['payment method'].value_counts()\n",
    "print(payment_methods)"
   ]
  },
  {
   "cell_type": "code",
   "execution_count": 10,
   "id": "b776bb04-2109-4a85-ab55-13f792806d33",
   "metadata": {},
   "outputs": [
    {
     "name": "stdout",
     "output_type": "stream",
     "text": [
      "MOST 💹 FREQUENTLY SOLD PRODUCT\n",
      "product\n",
      "laptop           2\n",
      "smart watch      2\n",
      "samrt phone      1\n",
      "smart glasses    1\n",
      "ring             1\n",
      "neck band        1\n",
      "earpods          1\n",
      "headphones       1\n",
      "wire buds        1\n",
      "buds             1\n",
      "Name: count, dtype: int64\n"
     ]
    }
   ],
   "source": [
    "print(\"MOST 💹 FREQUENTLY SOLD PRODUCT\")\n",
    "sold_product=convert_data['product'].value_counts().sort_values(ascending=False)\n",
    "print(sold_product.head(10))"
   ]
  },
  {
   "cell_type": "code",
   "execution_count": 81,
   "id": "c99658b1-6f77-4f3d-9c10-8d53bcc86654",
   "metadata": {},
   "outputs": [
    {
     "name": "stdout",
     "output_type": "stream",
     "text": [
      "daily order count\n",
      "order date  Order No\n",
      "2025-10-01  Or1         1\n",
      "2025-10-02  Or2         1\n",
      "2025-10-03  Or3         1\n",
      "2025-10-04  Or4         1\n",
      "2025-10-05  Or5         1\n",
      "Name: count, dtype: int64\n"
     ]
    }
   ],
   "source": [
    "print(\"🔄️DAILY ORDER COUNT\")\n",
    "daily_count=convert_data.groupby('order date')['Order No'].value_counts()\n",
    "print(daily_count.head(5))"
   ]
  },
  {
   "cell_type": "code",
   "execution_count": 13,
   "id": "2278efd6-c61a-4beb-93e0-da310c69db25",
   "metadata": {},
   "outputs": [
    {
     "name": "stdout",
     "output_type": "stream",
     "text": [
      "💰REVENUE BY PAYMENT\n",
      "prize  payment method\n",
      "18000  cash              2\n",
      "15000  upi               2\n",
      "11000  upi               1\n",
      "10000  scanner           1\n",
      "16000  debit             1\n",
      "12000  upi               1\n",
      "16000  scanner           1\n",
      "17000  cash              1\n",
      "       upi               1\n",
      "20000  account           1\n",
      "Name: count, dtype: int64\n"
     ]
    }
   ],
   "source": [
    "print(\"💰REVENUE BY PAYMENT\")\n",
    "revenue_by_payment=convert_data.groupby('prize')['payment method'].value_counts().sort_values(ascending=False).head(10)\n",
    "print(revenue_by_payment)"
   ]
  },
  {
   "cell_type": "code",
   "execution_count": 14,
   "id": "e2dd2539-6049-4788-9e1d-2017e7c82c46",
   "metadata": {},
   "outputs": [
    {
     "name": "stdout",
     "output_type": "stream",
     "text": [
      "PRODUCT SOLD ACCORDING TO CITY🏙️\n",
      "product        city         \n",
      "airback        kerela           1\n",
      "airjordan      punjab           1\n",
      "buds           delhi            1\n",
      "earpods        ajmer            1\n",
      "fitbit         jammu kashmir    1\n",
      "headphones     odisah           1\n",
      "iphone         mumbai           1\n",
      "laptop         delhi            2\n",
      "neck band      jaipur           1\n",
      "nokia          agra             1\n",
      "ring           mumbai           1\n",
      "samrt phone    hyderabad        1\n",
      "samsung        delhi            1\n",
      "smart glasses  banguluru        1\n",
      "smart watch    delhi            1\n",
      "               kolkata          1\n",
      "t-shirt        amrister         1\n",
      "vehicle        mumbai           1\n",
      "wire buds      hyderabad        1\n",
      "Name: count, dtype: int64\n"
     ]
    }
   ],
   "source": [
    "print(\"PRODUCT SOLD ACCORDING TO CITY🏙️\")\n",
    "sold_according_city=convert_data.groupby('product')['city'].value_counts()\n",
    "print(sold_according_city)"
   ]
  },
  {
   "cell_type": "code",
   "execution_count": null,
   "id": "9c67385e-83a3-45bd-81af-0d371f609e30",
   "metadata": {},
   "outputs": [],
   "source": []
  }
 ],
 "metadata": {
  "kernelspec": {
   "display_name": "Python 3 (ipykernel)",
   "language": "python",
   "name": "python3"
  },
  "language_info": {
   "codemirror_mode": {
    "name": "ipython",
    "version": 3
   },
   "file_extension": ".py",
   "mimetype": "text/x-python",
   "name": "python",
   "nbconvert_exporter": "python",
   "pygments_lexer": "ipython3",
   "version": "3.13.1"
  }
 },
 "nbformat": 4,
 "nbformat_minor": 5
}
